{
  "nbformat": 4,
  "nbformat_minor": 0,
  "metadata": {
    "colab": {
      "name": "Latihan List Comprehension.ipynb",
      "provenance": []
    },
    "kernelspec": {
      "name": "python3",
      "display_name": "Python 3"
    },
    "language_info": {
      "name": "python"
    }
  },
  "cells": [
    {
      "cell_type": "markdown",
      "metadata": {
        "id": "c80dec5c"
      },
      "source": [
        "#### Latihan List Comprehension\n",
        "**1. Menggunakan list comprehension buat list yang berisi angka 1 hingga 100**\n",
        "****\n",
        "**2 Ubah pernyataan dibawah ini menjadi list comprehension**\n",
        "```python\n",
        "list_a = [3,9,27,81,243]\n",
        "list_b = []\n",
        "for value in list_a:\n",
        "    list_b.append(value/3)\n",
        "list_b\n",
        "```\n",
        "\n",
        "**3 Ubah pernyataan dibawah ini menjadi list comprehension**\n",
        "```python\n",
        "list_1 = [x for x in range(100)]\n",
        "list_2 = []\n",
        "for value in list_1:\n",
        "    if value < 25:\n",
        "        list_2.append(value * 2)\n",
        "list_2\n",
        "```\n",
        "\n"
      ]
    },
    {
      "cell_type": "code",
      "execution_count": 2,
      "metadata": {
        "id": "d16b02c6",
        "colab": {
          "base_uri": "https://localhost:8080/"
        },
        "outputId": "d11281ff-34ac-4da6-b83e-35fd8e587326"
      },
      "outputs": [
        {
          "output_type": "stream",
          "name": "stdout",
          "text": [
            "[1, 2, 3, 4, 5, 6, 7, 8, 9, 10, 11, 12, 13, 14, 15, 16, 17, 18, 19, 20, 21, 22, 23, 24, 25, 26, 27, 28, 29, 30, 31, 32, 33, 34, 35, 36, 37, 38, 39, 40, 41, 42, 43, 44, 45, 46, 47, 48, 49, 50, 51, 52, 53, 54, 55, 56, 57, 58, 59, 60, 61, 62, 63, 64, 65, 66, 67, 68, 69, 70, 71, 72, 73, 74, 75, 76, 77, 78, 79, 80, 81, 82, 83, 84, 85, 86, 87, 88, 89, 90, 91, 92, 93, 94, 95, 96, 97, 98, 99, 100]\n"
          ]
        }
      ],
      "source": [
        "#Jawaban soal 1\n",
        "soal_1 = [i+1 for i in range(100)]\n",
        "print(soal_1)"
      ]
    },
    {
      "cell_type": "code",
      "execution_count": 4,
      "metadata": {
        "id": "28cc904c",
        "colab": {
          "base_uri": "https://localhost:8080/"
        },
        "outputId": "ea2b3e5e-c11c-40ca-9c3a-ba5f55dc6371"
      },
      "outputs": [
        {
          "output_type": "stream",
          "name": "stdout",
          "text": [
            "[1, 3, 9, 27, 81]\n"
          ]
        }
      ],
      "source": [
        "#Jawaban Soal 2\n",
        "list_a = [3,9,27,81,243]\n",
        "list_b = [int(i/3) for i in list_a]\n",
        "print(list_b)\n"
      ]
    },
    {
      "cell_type": "code",
      "execution_count": 7,
      "metadata": {
        "id": "7ef3f943",
        "colab": {
          "base_uri": "https://localhost:8080/"
        },
        "outputId": "bb8e3815-4b5c-4383-fb3e-f59b285e0965"
      },
      "outputs": [
        {
          "output_type": "stream",
          "name": "stdout",
          "text": [
            "[0, 2, 4, 6, 8, 10, 12, 14, 16, 18, 20, 22, 24, 26, 28, 30, 32, 34, 36, 38, 40, 42, 44, 46, 48]\n"
          ]
        }
      ],
      "source": [
        "#Jawaban Soal 3\n",
        "list_1 = [x for x in range(100)]\n",
        "list_2 = [i*2 for i in list_1 if i<25]\n",
        "print(list_2)"
      ]
    },
    {
      "cell_type": "code",
      "source": [
        ""
      ],
      "metadata": {
        "id": "RIi_6JwNAVmi"
      },
      "execution_count": null,
      "outputs": []
    }
  ]
}