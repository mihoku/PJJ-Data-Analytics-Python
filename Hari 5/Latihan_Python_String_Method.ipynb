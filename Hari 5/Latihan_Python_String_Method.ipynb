{
  "nbformat": 4,
  "nbformat_minor": 0,
  "metadata": {
    "colab": {
      "name": "Latihan Python String Method.ipynb",
      "provenance": [],
      "collapsed_sections": []
    },
    "kernelspec": {
      "name": "python3",
      "display_name": "Python 3"
    },
    "language_info": {
      "name": "python"
    }
  },
  "cells": [
    {
      "cell_type": "markdown",
      "metadata": {
        "id": "8e3e5e61"
      },
      "source": [
        "#### Latihan Python String Method"
      ]
    },
    {
      "cell_type": "code",
      "execution_count": 1,
      "metadata": {
        "id": "e140b862",
        "colab": {
          "base_uri": "https://localhost:8080/",
          "height": 36
        },
        "outputId": "fb6178c3-128d-4f21-8982-31e28826f823"
      },
      "outputs": [
        {
          "output_type": "execute_result",
          "data": {
            "text/plain": [
              "'liverpool is the best premier league team'"
            ],
            "application/vnd.google.colaboratory.intrinsic+json": {
              "type": "string"
            }
          },
          "metadata": {},
          "execution_count": 1
        }
      ],
      "source": [
        "# buatlah semua karakter dalam string menjadi huruf kecil\n",
        "text = 'LIveRpoOl is ThE BeSt PrEmiEr LeAgUe TeAm'\n",
        "\n",
        "#Jawaban\n",
        "text.lower()\n"
      ]
    },
    {
      "cell_type": "code",
      "execution_count": 2,
      "metadata": {
        "id": "f3e44705",
        "colab": {
          "base_uri": "https://localhost:8080/",
          "height": 36
        },
        "outputId": "7db7e18f-351a-4ae8-c10f-584639e83e53"
      },
      "outputs": [
        {
          "output_type": "execute_result",
          "data": {
            "text/plain": [
              "'Liverpool is the best premier league team'"
            ],
            "application/vnd.google.colaboratory.intrinsic+json": {
              "type": "string"
            }
          },
          "metadata": {},
          "execution_count": 2
        }
      ],
      "source": [
        "# buatlah karakter pada setiap awal kata menjadi huruf kapital\n",
        "text = 'LIveRpoOl is ThE BeSt PrEmiEr LeAgUe TeAm'\n",
        "\n",
        "#Jawaban\n",
        "\n",
        "text.capitalize()"
      ]
    },
    {
      "cell_type": "code",
      "execution_count": 3,
      "metadata": {
        "id": "83a9c002",
        "colab": {
          "base_uri": "https://localhost:8080/"
        },
        "outputId": "3e7f9cc2-0c31-4903-8a4c-c4da109be7ab"
      },
      "outputs": [
        {
          "output_type": "execute_result",
          "data": {
            "text/plain": [
              "['LIveRpoOl', 'is', 'ThE', 'BeSt', 'PrEmiEr', 'LeAgUe', 'TeAm']"
            ]
          },
          "metadata": {},
          "execution_count": 3
        }
      ],
      "source": [
        "# gunakanlah method .split() pada string berikut, pisahkan apabila terdapat spasi\n",
        "text = 'LIveRpoOl is ThE BeSt PrEmiEr LeAgUe TeAm'\n",
        "\n",
        "#Jawaban\n",
        "text.split(\" \")\n"
      ]
    },
    {
      "cell_type": "code",
      "source": [
        "#membuat teksnya huruf kecil semua dan menggenerasi bag of words\n",
        "text = 'LIveRpoOl is ThE BeSt PrEmiEr LeAgUe TeAm'\n",
        "\n",
        "#Jawaban\n",
        "text.lower().split(\" \")"
      ],
      "metadata": {
        "colab": {
          "base_uri": "https://localhost:8080/"
        },
        "id": "ctoL-4TyPgfq",
        "outputId": "71f54fee-5738-43a2-fce5-c38e4b261904"
      },
      "execution_count": 5,
      "outputs": [
        {
          "output_type": "execute_result",
          "data": {
            "text/plain": [
              "['liverpool', 'is', 'the', 'best', 'premier', 'league', 'team']"
            ]
          },
          "metadata": {},
          "execution_count": 5
        }
      ]
    }
  ]
}