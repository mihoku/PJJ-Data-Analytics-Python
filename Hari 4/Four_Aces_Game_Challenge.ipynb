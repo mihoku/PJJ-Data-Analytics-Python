{
  "nbformat": 4,
  "nbformat_minor": 0,
  "metadata": {
    "colab": {
      "name": "Four Aces Game Challenge.ipynb",
      "provenance": [],
      "collapsed_sections": []
    },
    "kernelspec": {
      "name": "python3",
      "display_name": "Python 3"
    },
    "language_info": {
      "name": "python"
    }
  },
  "cells": [
    {
      "cell_type": "code",
      "source": [
        "from random import shuffle\n",
        "import matplotlib.pyplot as plt"
      ],
      "metadata": {
        "id": "b80Z1OFy2_Sz"
      },
      "execution_count": 31,
      "outputs": []
    },
    {
      "cell_type": "code",
      "execution_count": 32,
      "metadata": {
        "id": "faNrotPO2w9Q"
      },
      "outputs": [],
      "source": [
        "cards = ['Red','Red','Black','Black']"
      ]
    },
    {
      "cell_type": "code",
      "source": [
        "result = {'Menang':0,'Kalah':0}"
      ],
      "metadata": {
        "id": "J5fhICfs3FAn"
      },
      "execution_count": 33,
      "outputs": []
    },
    {
      "cell_type": "code",
      "source": [
        "def checkValidity(userChoice):\n",
        "  validChar = [1,2,3,4]\n",
        "  if(len(userChoice)!=3):\n",
        "    return False\n",
        "  elif(int(userChoice[0]) not in validChar or int(userChoice[-1]) not in validChar):\n",
        "    return False\n",
        "  elif(int(userChoice[0]) == int(userChoice[-1])):\n",
        "    return False\n",
        "  else:\n",
        "    return True\n",
        "\n",
        "def take10Shuffle():\n",
        "  kalah = 0\n",
        "  menang = 0\n",
        "  for i in range(10):\n",
        "    userChoice = input(\"Pilih 2 angka antara 1-4, pisahkan kedunya dengan tanda dash (-) : \")\n",
        "    if(checkValidity(userChoice)==True):\n",
        "      shuffle(cards)\n",
        "      checkResult = cards[int(userChoice[0])-1]==cards[int(userChoice[-1])-1]\n",
        "      if(checkResult):\n",
        "        menang+=1\n",
        "        result['Menang']+=1\n",
        "        print(\"Anda menang! Pilihan Anda %s dan %s\"%(cards[int(userChoice[0])-1],cards[int(userChoice[-1])-1]))\n",
        "        continue\n",
        "      else:\n",
        "        kalah+=1\n",
        "        result['Kalah']+=1\n",
        "        print(\"Anda kalah! Pilihan Anda %s dan %s\"%(cards[int(userChoice[0])-1],cards[int(userChoice[-1])-1]))\n",
        "        continue\n",
        "    else:\n",
        "      print(\"Karakter %s yang Anda pilih invalid! Coba lagi.\"%userChoice)\n",
        "      continue\n",
        "  print(\"Baru saja Anda menang %d kali dan kalah %d kali\"%(menang,kalah))\n",
        "  print(\"Rekap keseluruhan:\")\n",
        "  plt.bar(range(len(result)), list(result.values()), tick_label=list(result.keys()))\n",
        "  plt.show()\n",
        "  winRate = 100*result['Menang']/(result['Menang']+result['Kalah'])\n",
        "  print(\"Win Rate: %d persen\"%winRate)\n",
        "  return \n",
        "\n",
        "\n",
        "\n",
        "    \n"
      ],
      "metadata": {
        "id": "-NBgSKyp3Iti"
      },
      "execution_count": 34,
      "outputs": []
    },
    {
      "cell_type": "code",
      "source": [
        "take10Shuffle()"
      ],
      "metadata": {
        "colab": {
          "base_uri": "https://localhost:8080/",
          "height": 689
        },
        "id": "VDYeqeURPYPY",
        "outputId": "d2e0ef20-9ccd-4af7-b19c-d89a50dc7059"
      },
      "execution_count": 35,
      "outputs": [
        {
          "output_type": "stream",
          "name": "stdout",
          "text": [
            "Pilih 2 angka antara 1-4, pisahkan kedunya dengan tanda dash (-) : 1-2\n",
            "Anda menang! Pilihan Anda Black dan Black\n",
            "Pilih 2 angka antara 1-4, pisahkan kedunya dengan tanda dash (-) : 3-1\n",
            "Anda kalah! Pilihan Anda Black dan Red\n",
            "Pilih 2 angka antara 1-4, pisahkan kedunya dengan tanda dash (-) : 4-3\n",
            "Anda kalah! Pilihan Anda Black dan Red\n",
            "Pilih 2 angka antara 1-4, pisahkan kedunya dengan tanda dash (-) : 1-4\n",
            "Anda kalah! Pilihan Anda Red dan Black\n",
            "Pilih 2 angka antara 1-4, pisahkan kedunya dengan tanda dash (-) : 1-2\n",
            "Anda kalah! Pilihan Anda Black dan Red\n",
            "Pilih 2 angka antara 1-4, pisahkan kedunya dengan tanda dash (-) : 2-5\n",
            "Karakter 2-5 yang Anda pilih invalid! Coba lagi.\n",
            "Pilih 2 angka antara 1-4, pisahkan kedunya dengan tanda dash (-) : 1-1\n",
            "Karakter 1-1 yang Anda pilih invalid! Coba lagi.\n",
            "Pilih 2 angka antara 1-4, pisahkan kedunya dengan tanda dash (-) : 1-3\n",
            "Anda menang! Pilihan Anda Red dan Red\n",
            "Pilih 2 angka antara 1-4, pisahkan kedunya dengan tanda dash (-) : 3-4\n",
            "Anda kalah! Pilihan Anda Red dan Black\n",
            "Pilih 2 angka antara 1-4, pisahkan kedunya dengan tanda dash (-) : 1-2\n",
            "Anda kalah! Pilihan Anda Red dan Black\n",
            "Baru saja Anda menang 2 kali dan kalah 6 kali\n",
            "Rekap keseluruhan:\n"
          ]
        },
        {
          "output_type": "display_data",
          "data": {
            "text/plain": [
              "<Figure size 432x288 with 1 Axes>"
            ],
            "image/png": "[encoded data removed]"
          },
          "metadata": {
            "needs_background": "light"
          }
        },
        {
          "output_type": "stream",
          "name": "stdout",
          "text": [
            "Win Rate: 25 persen\n"
          ]
        }
      ]
    },
    {
      "cell_type": "code",
      "source": [
        "take10Shuffle()"
      ],
      "metadata": {
        "colab": {
          "base_uri": "https://localhost:8080/",
          "height": 689
        },
        "id": "cVf2sB93Pdoq",
        "outputId": "b338888a-99f5-4924-9132-84c48c0e5423"
      },
      "execution_count": 36,
      "outputs": [
        {
          "output_type": "stream",
          "name": "stdout",
          "text": [
            "Pilih 2 angka antara 1-4, pisahkan kedunya dengan tanda dash (-) : 1-4\n",
            "Anda kalah! Pilihan Anda Red dan Black\n",
            "Pilih 2 angka antara 1-4, pisahkan kedunya dengan tanda dash (-) : 4-3\n",
            "Anda menang! Pilihan Anda Red dan Red\n",
            "Pilih 2 angka antara 1-4, pisahkan kedunya dengan tanda dash (-) : 2-3\n",
            "Anda kalah! Pilihan Anda Black dan Red\n",
            "Pilih 2 angka antara 1-4, pisahkan kedunya dengan tanda dash (-) : 2-2\n",
            "Karakter 2-2 yang Anda pilih invalid! Coba lagi.\n",
            "Pilih 2 angka antara 1-4, pisahkan kedunya dengan tanda dash (-) : 1-2\n",
            "Anda kalah! Pilihan Anda Black dan Red\n",
            "Pilih 2 angka antara 1-4, pisahkan kedunya dengan tanda dash (-) : 3-1\n",
            "Anda kalah! Pilihan Anda Red dan Black\n",
            "Pilih 2 angka antara 1-4, pisahkan kedunya dengan tanda dash (-) : 4-4\n",
            "Karakter 4-4 yang Anda pilih invalid! Coba lagi.\n",
            "Pilih 2 angka antara 1-4, pisahkan kedunya dengan tanda dash (-) : 4-1\n",
            "Anda kalah! Pilihan Anda Black dan Red\n",
            "Pilih 2 angka antara 1-4, pisahkan kedunya dengan tanda dash (-) : 2-1\n",
            "Anda kalah! Pilihan Anda Red dan Black\n",
            "Pilih 2 angka antara 1-4, pisahkan kedunya dengan tanda dash (-) : 1-3\n",
            "Anda kalah! Pilihan Anda Black dan Red\n",
            "Baru saja Anda menang 1 kali dan kalah 7 kali\n",
            "Rekap keseluruhan:\n"
          ]
        },
        {
          "output_type": "display_data",
          "data": {
            "text/plain": [
              "<Figure size 432x288 with 1 Axes>"
            ],
            "image/png": "[encoded data removed]"
          },
          "metadata": {
            "needs_background": "light"
          }
        },
        {
          "output_type": "stream",
          "name": "stdout",
          "text": [
            "Win Rate: 18 persen\n"
          ]
        }
      ]
    },
    {
      "cell_type": "code",
      "source": [
        "take10Shuffle()"
      ],
      "metadata": {
        "colab": {
          "base_uri": "https://localhost:8080/",
          "height": 689
        },
        "id": "31Wq00wESQ2Y",
        "outputId": "1444d4f0-0997-4431-a30e-11348121a186"
      },
      "execution_count": 37,
      "outputs": [
        {
          "output_type": "stream",
          "name": "stdout",
          "text": [
            "Pilih 2 angka antara 1-4, pisahkan kedunya dengan tanda dash (-) : 1-2\n",
            "Anda kalah! Pilihan Anda Red dan Black\n",
            "Pilih 2 angka antara 1-4, pisahkan kedunya dengan tanda dash (-) : 3-1\n",
            "Anda kalah! Pilihan Anda Red dan Black\n",
            "Pilih 2 angka antara 1-4, pisahkan kedunya dengan tanda dash (-) : 3-4\n",
            "Anda menang! Pilihan Anda Black dan Black\n",
            "Pilih 2 angka antara 1-4, pisahkan kedunya dengan tanda dash (-) : 4-1\n",
            "Anda kalah! Pilihan Anda Red dan Black\n",
            "Pilih 2 angka antara 1-4, pisahkan kedunya dengan tanda dash (-) : 4-4\n",
            "Karakter 4-4 yang Anda pilih invalid! Coba lagi.\n",
            "Pilih 2 angka antara 1-4, pisahkan kedunya dengan tanda dash (-) : 3-4\n",
            "Anda kalah! Pilihan Anda Red dan Black\n",
            "Pilih 2 angka antara 1-4, pisahkan kedunya dengan tanda dash (-) : 4-2\n",
            "Anda menang! Pilihan Anda Red dan Red\n",
            "Pilih 2 angka antara 1-4, pisahkan kedunya dengan tanda dash (-) : 1-4\n",
            "Anda menang! Pilihan Anda Black dan Black\n",
            "Pilih 2 angka antara 1-4, pisahkan kedunya dengan tanda dash (-) : 3-1\n",
            "Anda kalah! Pilihan Anda Red dan Black\n",
            "Pilih 2 angka antara 1-4, pisahkan kedunya dengan tanda dash (-) : 1-4\n",
            "Anda kalah! Pilihan Anda Black dan Red\n",
            "Baru saja Anda menang 3 kali dan kalah 6 kali\n",
            "Rekap keseluruhan:\n"
          ]
        },
        {
          "output_type": "display_data",
          "data": {
            "text/plain": [
              "<Figure size 432x288 with 1 Axes>"
            ],
            "image/png": "[encoded data removed]"
          },
          "metadata": {
            "needs_background": "light"
          }
        },
        {
          "output_type": "stream",
          "name": "stdout",
          "text": [
            "Win Rate: 24 persen\n"
          ]
        }
      ]
    },
    {
      "cell_type": "code",
      "source": [
        ""
      ],
      "metadata": {
        "id": "JUdD6V1mVWmi"
      },
      "execution_count": null,
      "outputs": []
    }
  ]
}