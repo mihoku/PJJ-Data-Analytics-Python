{
  "cells": [
    {
      "cell_type": "markdown",
      "id": "70a81a5f",
      "metadata": {
        "id": "70a81a5f"
      },
      "source": [
        "=====================================================\n",
        "# TUGAS UNTUK ASYNCHRONOUS 1 \n",
        "====================================================="
      ]
    },
    {
      "cell_type": "markdown",
      "source": [
        "## Tugas 1\n",
        "\n",
        "Buatlah sebuah program dengan masukan berupa tiga bilangan bulat dari user. Kemudian program akan melakukan perhitungan dan menghasilkan keluaran berupa jam dan menit sisanya bila ada. \n",
        "\n",
        "**Contoh keluaran bila input dari user 121:<br>**\n",
        "Hours</br>\n",
        "2</br>\n",
        "Minutes</br>\n",
        "1</br>"
      ],
      "metadata": {
        "id": "5AupMrAFAnE-"
      },
      "id": "5AupMrAFAnE-"
    },
    {
      "cell_type": "code",
      "source": [
        "minutes = int(input(\"Masukkan angka menit untuk dikonversi ke jam: \"))\n",
        "hour_converter= minutes//60\n",
        "print('Hours\\n%d'%hour_converter)\n",
        "minute_converter = minutes%60\n",
        "print('Minutes\\n%d'%minute_converter)"
      ],
      "metadata": {
        "colab": {
          "base_uri": "https://localhost:8080/"
        },
        "id": "zJI_YpyYnzpI",
        "outputId": "9bff1a37-6cc2-4238-add1-9982a14d08e3"
      },
      "id": "zJI_YpyYnzpI",
      "execution_count": null,
      "outputs": [
        {
          "output_type": "stream",
          "name": "stdout",
          "text": [
            "Masukkan angka menit untuk dikonversi ke jam: 121\n",
            "Hours\n",
            "2\n",
            "Minutes\n",
            "1\n"
          ]
        }
      ]
    },
    {
      "cell_type": "markdown",
      "source": [
        "## Tugas 2\n",
        "\n",
        "Berikut adalah suatu string\n",
        "**str = ’X-DSPAM-Confidence:0.8475’**</br>\n",
        "Gunakan 'find' dan 'string slicing' untuk mengekstrak porsi dari karakter setelah tanda kolon, kemudian gunakan ubahlah menjadi data float."
      ],
      "metadata": {
        "id": "IAoE1pgSAvPV"
      },
      "id": "IAoE1pgSAvPV"
    },
    {
      "cell_type": "code",
      "source": [
        "#Tugas 2\n",
        "\n",
        "str = 'X-DSPAM-Confidence:0.8475'\n",
        "processing_result = float(str[str.find(':')+1:])\n",
        "processing_result"
      ],
      "metadata": {
        "colab": {
          "base_uri": "https://localhost:8080/"
        },
        "id": "N8Ff0yudpf7K",
        "outputId": "47ae3e8a-3c49-4d71-c68c-8410127252c5"
      },
      "id": "N8Ff0yudpf7K",
      "execution_count": null,
      "outputs": [
        {
          "output_type": "execute_result",
          "data": {
            "text/plain": [
              "0.8475"
            ]
          },
          "metadata": {},
          "execution_count": 10
        }
      ]
    },
    {
      "cell_type": "markdown",
      "id": "dda1256d",
      "metadata": {
        "id": "dda1256d"
      },
      "source": [
        "=====================================================\n",
        "# TUGAS UNTUK ASYNCHRONOUS 2\n",
        "====================================================="
      ]
    },
    {
      "cell_type": "markdown",
      "source": [
        "## Latihan 3:\n",
        "Banyaknya hari dalam satu bulan bervariasi dari 28 hingga 31. Buatlah program yang memasukkan\n",
        "nama bulan dari user (string). Kemudian program harus melakukan perhitungan jumlah hari dalam bulan tersebut. \n",
        "Untuk bulan februari keluaran berupa string **“28 atau 29 hari”** for agar berlaku juga untuk bulan kabisat."
      ],
      "metadata": {
        "id": "tXzbCThkBDM-"
      },
      "id": "tXzbCThkBDM-"
    },
    {
      "cell_type": "code",
      "source": [
        "#Latihan 3\n",
        "bulan = input(\"Masukkan nama bulan: \")\n",
        "ganjil = [\"Jan\", \"January\", \"Januari\",\"Mar\",\"March\",\"Maret\",\"May\",\"Mei\",\"Jul\",\"July\",\"Juli\",\"Aug\",\"Agu\",\"August\",\"Agustus\",\"Oct\",\"Okt\",\"October\",\"Oktober\",\"Dec\",\"Des\",\"December\",\"Desember\"]\n",
        "genap = [\"Apr\",\"April\",\"Jun\",\"June\",\"Juni\",\"Sep\",\"September\",\"Nov\",\"November\"]\n",
        "gajelas = [\"Feb\",\"February\",\"Februari\"]\n",
        "if(bulan.capitalize() in ganjil):\n",
        "  print(\"Pada bulan %s terdapat 31 hari\"%bulan)\n",
        "elif(bulan.capitalize() in genap):\n",
        "  print(\"Pada bulan %s terdapat 30 hari\"%bulan)\n",
        "elif(bulan.capitalize() in gajelas):\n",
        "  print(\"Pada bulan %s terdapat 28 atau 29 hari\"%bulan)\n",
        "else:\n",
        "  print(\"Nama bulan yang Anda berikan invalid\")\n",
        "\n"
      ],
      "metadata": {
        "colab": {
          "base_uri": "https://localhost:8080/"
        },
        "id": "zamGrbL0AQSJ",
        "outputId": "7d2ee784-494f-4e5e-d029-ba7ccdfe285b"
      },
      "id": "zamGrbL0AQSJ",
      "execution_count": null,
      "outputs": [
        {
          "output_type": "stream",
          "name": "stdout",
          "text": [
            "Masukkan nama bulan: jul\n",
            "Pada bulan jul terdapat 31 hari\n"
          ]
        }
      ]
    },
    {
      "cell_type": "markdown",
      "source": [
        "## Latihan 4:\n",
        "\n",
        "Skala Richter \n",
        "Magnitude Descriptor\n",
        "Less than 2.0 Micro\n",
        "2.0 to less than 3.0 Very Minor\n",
        "3.0 to less than 4.0 Minor\n",
        "4.0 to less than 5.0 Light\n",
        "5.0 to less than 6.0 Moderate\n",
        "6.0 to less than 7.0 Strong\n",
        "7.0 to less than 8.0 Major\n",
        "8.0 to less than 10.0 Great\n",
        "10.0 or more Meteoric\n",
        "\n",
        "* Buatlah program yang membaca besarnya magnitude dari user dan memberikan keluaran terkait grade dari kekuatan gempa.\n",
        "* Contoh keluaran :\n",
        "  **'Gempa berskala 5,5 berkategori Moderat'**  \n"
      ],
      "metadata": {
        "id": "CmZHypqQBO-T"
      },
      "id": "CmZHypqQBO-T"
    },
    {
      "cell_type": "code",
      "source": [
        "magnitude = float(input(\"Magnitude dari gempa: \"))\n",
        "if(magnitude<2.0):\n",
        "  kategori = 'Micro'\n",
        "elif(magnitude<3.0):\n",
        "  kategori = 'Very Minor'\n",
        "elif(magnitude<4.0):\n",
        "  kategori = 'Minor'\n",
        "elif(magnitude<5.0):\n",
        "  kategori = 'Light'\n",
        "elif(magnitude<6.0):\n",
        "  kategori = 'Moderate'\n",
        "elif(magnitude<7.0):\n",
        "  kategori = 'Strong'\n",
        "elif(magnitude<8.0):\n",
        "  kategori = 'Major'\n",
        "elif(magnitude<10.0):\n",
        "  kategori = 'Great'\n",
        "else: \n",
        "  kategori = 'Meteoric'\n",
        "\n",
        "print('Gempa berskala %.1f berkategori %s' %(magnitude,kategori))"
      ],
      "metadata": {
        "colab": {
          "base_uri": "https://localhost:8080/"
        },
        "id": "ZWnD-U7LpXI9",
        "outputId": "90883262-8175-4263-ac64-565b0abcccc0"
      },
      "id": "ZWnD-U7LpXI9",
      "execution_count": null,
      "outputs": [
        {
          "output_type": "stream",
          "name": "stdout",
          "text": [
            "Magnitude dari gempa: 6.5\n",
            "Gempa berskala 6.5 berkategori Strong\n"
          ]
        }
      ]
    },
    {
      "cell_type": "markdown",
      "source": [
        "## Latihan 5:\n",
        "* Buatlah script yang menerima input berupa lima digit angka dari user.</br>\n",
        "* Pisahkan angka menjadi digit indivual. Print secara terpisah dengan separator berupa tiga spasi\n",
        "* Contoh: Jika user memasukkan 42339, maka hasil print</br> \n",
        "4   2   3   3   9</br>\n",
        "* Asumsikan bahwa user selalu menginput angka dalam panjang yang tepat. \n",
        "* Use both the floor division and remainder operations to “pick off ” each digit."
      ],
      "metadata": {
        "id": "cdMH3KcQBW4y"
      },
      "id": "cdMH3KcQBW4y"
    },
    {
      "cell_type": "code",
      "source": [
        "digit = input(\"Input 5 digit angka\") #lebih atau kurang juga boleh sih, wkwk\n",
        "\n",
        "result = ''\n",
        "separated_digit = []\n",
        "\n",
        "for urutan_digit in range(len(digit)):\n",
        "  sep = digit[urutan_digit:urutan_digit+1]\n",
        "  separated_digit.append(int(sep))\n",
        "  result = result+sep+'   '\n",
        "\n",
        "print(result)"
      ],
      "metadata": {
        "colab": {
          "base_uri": "https://localhost:8080/"
        },
        "id": "a477Aco43ICI",
        "outputId": "43f8ac65-c872-40ca-fd6e-c3de969f1bf3"
      },
      "id": "a477Aco43ICI",
      "execution_count": null,
      "outputs": [
        {
          "output_type": "stream",
          "name": "stdout",
          "text": [
            "Input 5 digit angka346346346346\n",
            "3   4   6   3   4   6   3   4   6   3   4   6   \n"
          ]
        }
      ]
    },
    {
      "cell_type": "markdown",
      "source": [
        "## Latihan 6:\n",
        "Sebuah bilangan palindrom adalah angka yang jika dibaca dari depan kebelakang sama. Contoh:\n",
        "12321, 55555, 45554 and 11611.\n",
        "Tulislah sebuah program yang membaca lima digit bilangan bulat untuk menentukan apakah mereka palindrome atau bukan.\n",
        "[Hint: Use the // and % operators to separate the number into its digits.]"
      ],
      "metadata": {
        "id": "LEh5-0aBBe_l"
      },
      "id": "LEh5-0aBBe_l"
    },
    {
      "cell_type": "markdown",
      "source": [
        "#Teknik 1: menggunakan operator // dan %\n"
      ],
      "metadata": {
        "id": "urXJtyRNCIhk"
      },
      "id": "urXJtyRNCIhk"
    },
    {
      "cell_type": "code",
      "source": [
        "#terima input palindrome dari user\n",
        "supposedly_palindrome = input(\"Coba input bilangan palindrome: \")\n",
        "panjang_input = len(supposedly_palindrome)\n",
        "\n",
        "#Teknik 1: menggunakan operator // dan %\n",
        "bilangan_uji = int(supposedly_palindrome)\n",
        "result = True\n",
        "\n",
        "#selama angkanya belum habis(atau minus jika jumlah angka di bilangan palindrom ganjil, maka iterasi dijalankan terus menerus)\n",
        "while(bilangan_uji>0):\n",
        "  jumlah_angka_tersisa = len(\"%s\"%bilangan_uji)\n",
        "  #apakah floor division dari hasil perpangkatan tertinggi sepuluh sama dengan modula hasil perpangkatan terrendah sepuluh, dst..\n",
        "  digit_depan = bilangan_uji // 10**(jumlah_angka_tersisa-1)\n",
        "  digit_belakang = bilangan_uji % 10\n",
        "  test = digit_depan==digit_belakang\n",
        "  result = result and test\n",
        "\n",
        "  #angka yang sudah diuji dihapus dari bilangan awal\n",
        "  bilangan_uji = int((bilangan_uji-digit_belakang-(digit_depan*10**(jumlah_angka_tersisa-1)))/10)\n",
        "\n",
        "if(result):\n",
        "  print(\"Bilangan %s merupakan palindrome (Teknik 1)\"%supposedly_palindrome)\n",
        "else:\n",
        "  print(\"Bilangan %s bukan merupakan palindrome (Teknik 1)\"%supposedly_palindrome)"
      ],
      "metadata": {
        "colab": {
          "base_uri": "https://localhost:8080/"
        },
        "id": "HMMh1vH_CD9J",
        "outputId": "0dd01b78-ceb0-43ec-b310-24a5b150d692"
      },
      "id": "HMMh1vH_CD9J",
      "execution_count": 2,
      "outputs": [
        {
          "output_type": "stream",
          "name": "stdout",
          "text": [
            "Coba input bilangan palindrome: 123454321\n",
            "Bilangan 123454321 merupakan palindrome (Teknik 1)\n"
          ]
        }
      ]
    },
    {
      "cell_type": "markdown",
      "source": [
        "#Teknik 2: menggunakan string slicing"
      ],
      "metadata": {
        "id": "LRHAJwSpC5Gi"
      },
      "id": "LRHAJwSpC5Gi"
    },
    {
      "cell_type": "code",
      "source": [
        "#terima input palindrome dari user\n",
        "supposedly_palindrome = input(\"Coba input bilangan palindrome: \")\n",
        "panjang_input = len(supposedly_palindrome)\n",
        "\n",
        "#Teknik 2: menggunakan string slicing\n",
        "result2 = True\n",
        "\n",
        "for a in range(panjang_input):\n",
        "  digit_depan = supposedly_palindrome[a]\n",
        "  digit_belakang = supposedly_palindrome[-a-1]\n",
        "  test2 = digit_depan==digit_belakang\n",
        "  result2 = result2 and test2\n",
        "\n",
        "if(result2):\n",
        "  print(\"Bilangan %s merupakan palindrome (Teknik 2)\"%supposedly_palindrome)\n",
        "else:\n",
        "  print(\"Bilangan %s bukan merupakan palindrome (Teknik 2)\"%supposedly_palindrome)"
      ],
      "metadata": {
        "colab": {
          "base_uri": "https://localhost:8080/"
        },
        "id": "suBHWIsMCal7",
        "outputId": "9d4e9e2a-aec8-4323-cae7-70e5ed9c7091"
      },
      "id": "suBHWIsMCal7",
      "execution_count": 4,
      "outputs": [
        {
          "output_type": "stream",
          "name": "stdout",
          "text": [
            "Coba input bilangan palindrome: 3456543\n",
            "Bilangan 3456543 merupakan palindrome (Teknik 2)\n"
          ]
        }
      ]
    },
    {
      "cell_type": "markdown",
      "source": [
        "#Teknik 3: string inverse"
      ],
      "metadata": {
        "id": "RJI4QgffC8BB"
      },
      "id": "RJI4QgffC8BB"
    },
    {
      "cell_type": "code",
      "source": [
        "#terima input palindrome dari user\n",
        "supposedly_palindrome = input(\"Coba input bilangan palindrome: \")\n",
        "panjang_input = len(supposedly_palindrome)\n",
        "\n",
        "#Teknik 3: string inverse\n",
        "test3 = supposedly_palindrome[::-1]==supposedly_palindrome\n",
        "if(test3):\n",
        "  print(\"Bilangan %s merupakan palindrome (Teknik 3)\"%supposedly_palindrome)\n",
        "else:\n",
        "  print(\"Bilangan %s bukan merupakan palindrome (Teknik 3)\"%supposedly_palindrome)"
      ],
      "metadata": {
        "colab": {
          "base_uri": "https://localhost:8080/"
        },
        "id": "RiKPqqosCp8u",
        "outputId": "4e1ee86d-ae2d-4f64-90d9-4fb9de13601e"
      },
      "id": "RiKPqqosCp8u",
      "execution_count": 5,
      "outputs": [
        {
          "output_type": "stream",
          "name": "stdout",
          "text": [
            "Coba input bilangan palindrome: 12345678987654321\n",
            "Bilangan 12345678987654321 merupakan palindrome (Teknik 3)\n"
          ]
        }
      ]
    },
    {
      "cell_type": "markdown",
      "source": [
        "## Latihan 7 :\n",
        "Konversi derajat celcius ke fahrenheit diatur oleh persamaan berikut :\n",
        "$F = (\\frac{9}{5}) * C + 32$\n",
        "Gunakan fungsi ini untuk memprint suatu daftar konversi temperatur dari celcius untuk range 0–100.\n",
        "Gunakan presisi 1 digit."
      ],
      "metadata": {
        "id": "0ISEkH96Bo1b"
      },
      "id": "0ISEkH96Bo1b"
    },
    {
      "cell_type": "code",
      "source": [
        "def CelciusToFahrenheit(celcius):\n",
        "  Fahrenheit = (9/5)*celcius+32\n",
        "  return Fahrenheit\n",
        "\n",
        "for i in range(101):\n",
        "  print(\"%.1f° C = %.1f° F\"%(i, CelciusToFahrenheit(i)))"
      ],
      "metadata": {
        "colab": {
          "base_uri": "https://localhost:8080/"
        },
        "id": "xBV-RD3pQeWG",
        "outputId": "6f0bb8d8-7553-4b64-8b75-b558e255f898"
      },
      "id": "xBV-RD3pQeWG",
      "execution_count": null,
      "outputs": [
        {
          "output_type": "stream",
          "name": "stdout",
          "text": [
            "0.0° C = 32.0° F\n",
            "1.0° C = 33.8° F\n",
            "2.0° C = 35.6° F\n",
            "3.0° C = 37.4° F\n",
            "4.0° C = 39.2° F\n",
            "5.0° C = 41.0° F\n",
            "6.0° C = 42.8° F\n",
            "7.0° C = 44.6° F\n",
            "8.0° C = 46.4° F\n",
            "9.0° C = 48.2° F\n",
            "10.0° C = 50.0° F\n",
            "11.0° C = 51.8° F\n",
            "12.0° C = 53.6° F\n",
            "13.0° C = 55.4° F\n",
            "14.0° C = 57.2° F\n",
            "15.0° C = 59.0° F\n",
            "16.0° C = 60.8° F\n",
            "17.0° C = 62.6° F\n",
            "18.0° C = 64.4° F\n",
            "19.0° C = 66.2° F\n",
            "20.0° C = 68.0° F\n",
            "21.0° C = 69.8° F\n",
            "22.0° C = 71.6° F\n",
            "23.0° C = 73.4° F\n",
            "24.0° C = 75.2° F\n",
            "25.0° C = 77.0° F\n",
            "26.0° C = 78.8° F\n",
            "27.0° C = 80.6° F\n",
            "28.0° C = 82.4° F\n",
            "29.0° C = 84.2° F\n",
            "30.0° C = 86.0° F\n",
            "31.0° C = 87.8° F\n",
            "32.0° C = 89.6° F\n",
            "33.0° C = 91.4° F\n",
            "34.0° C = 93.2° F\n",
            "35.0° C = 95.0° F\n",
            "36.0° C = 96.8° F\n",
            "37.0° C = 98.6° F\n",
            "38.0° C = 100.4° F\n",
            "39.0° C = 102.2° F\n",
            "40.0° C = 104.0° F\n",
            "41.0° C = 105.8° F\n",
            "42.0° C = 107.6° F\n",
            "43.0° C = 109.4° F\n",
            "44.0° C = 111.2° F\n",
            "45.0° C = 113.0° F\n",
            "46.0° C = 114.8° F\n",
            "47.0° C = 116.6° F\n",
            "48.0° C = 118.4° F\n",
            "49.0° C = 120.2° F\n",
            "50.0° C = 122.0° F\n",
            "51.0° C = 123.8° F\n",
            "52.0° C = 125.6° F\n",
            "53.0° C = 127.4° F\n",
            "54.0° C = 129.2° F\n",
            "55.0° C = 131.0° F\n",
            "56.0° C = 132.8° F\n",
            "57.0° C = 134.6° F\n",
            "58.0° C = 136.4° F\n",
            "59.0° C = 138.2° F\n",
            "60.0° C = 140.0° F\n",
            "61.0° C = 141.8° F\n",
            "62.0° C = 143.6° F\n",
            "63.0° C = 145.4° F\n",
            "64.0° C = 147.2° F\n",
            "65.0° C = 149.0° F\n",
            "66.0° C = 150.8° F\n",
            "67.0° C = 152.6° F\n",
            "68.0° C = 154.4° F\n",
            "69.0° C = 156.2° F\n",
            "70.0° C = 158.0° F\n",
            "71.0° C = 159.8° F\n",
            "72.0° C = 161.6° F\n",
            "73.0° C = 163.4° F\n",
            "74.0° C = 165.2° F\n",
            "75.0° C = 167.0° F\n",
            "76.0° C = 168.8° F\n",
            "77.0° C = 170.6° F\n",
            "78.0° C = 172.4° F\n",
            "79.0° C = 174.2° F\n",
            "80.0° C = 176.0° F\n",
            "81.0° C = 177.8° F\n",
            "82.0° C = 179.6° F\n",
            "83.0° C = 181.4° F\n",
            "84.0° C = 183.2° F\n",
            "85.0° C = 185.0° F\n",
            "86.0° C = 186.8° F\n",
            "87.0° C = 188.6° F\n",
            "88.0° C = 190.4° F\n",
            "89.0° C = 192.2° F\n",
            "90.0° C = 194.0° F\n",
            "91.0° C = 195.8° F\n",
            "92.0° C = 197.6° F\n",
            "93.0° C = 199.4° F\n",
            "94.0° C = 201.2° F\n",
            "95.0° C = 203.0° F\n",
            "96.0° C = 204.8° F\n",
            "97.0° C = 206.6° F\n",
            "98.0° C = 208.4° F\n",
            "99.0° C = 210.2° F\n",
            "100.0° C = 212.0° F\n"
          ]
        }
      ]
    },
    {
      "cell_type": "markdown",
      "source": [
        "## Latihan 8 :\n",
        "Pak Joni memiliki rencana untuk membeli sebuah rumah, tetapi sayangnya dia tidak punya banyak uang. Dia berencana untuk membeli tetapi dengan cicilan ke bank saja. Namun, sayangnya lagi-lagi untuk membayar DP pinjaman bankpun ia tidak punya. Oleh karena itu, dia berencana untuk menabung setiap bulan agar bisa membayar DP. Tugas anda : tentukan berapa lama dia harus menabung agar dia bisa membayar cicilan rumah tersebut.\n",
        "1.\tMintalah pak joni untuk membuat harga perkiraan rumah yang dia inginkan simpan pada variable, total_cost.\n",
        "2.\tBiasanya untuk DP rumah, bank akan mensyaratkan pembayaran DP sebesar 25%, simpan pada variabel portion_down_payment = 0.25.\n",
        "3.\tTanyakan pak joni berapa uang yang sudah dia punya selama ini yang dicadangkan untuk membayar DP, simpan pada variable current_savings nilai defaultnya boleh anda set 0. \n",
        "4.\tAsumsikan bahwa pak joni menginvestasikan tabungan dengan bijak, sehingga memperoleh bunga 5 % per tahun. \n",
        "5.\tSimpan gaji tahunan pak joni dalam variabel annual_salary.\n",
        "6.\tTanyakan pak Joni persen dari gaji pak joni yang dia sisishkan untuk menabung simpan pada variable portion_saved. Variabel ini berbentuk decimal (contoh 0.1 untuk persentase 10%). \n",
        "7.\tPada akhir tiap bulan bulan, tabungan anda akan meningkat sesuai dengan besarnya investasi  ditambah dengan porsi gaji yang ditabungkan (gaji tahunan/ 12)."
      ],
      "metadata": {
        "id": "T9G5Upd4Buqa"
      },
      "id": "T9G5Upd4Buqa"
    },
    {
      "cell_type": "code",
      "source": [
        "# 1. Mintalah pak joni untuk membuat harga perkiraan rumah yang dia inginkan simpan pada variable, total_cost.\n",
        "\n",
        "total_cost = float(input(\"Harga perkiraan rumah yang Anda inginkan: \"))\n",
        "\n",
        "# 2. Biasanya untuk DP rumah, bank akan mensyaratkan pembayaran DP sebesar 25%, simpan pada variabel portion_down_payment = 0.25.\n",
        "\n",
        "portion_down_payment = 0.25\n",
        "\n",
        "# 3. Tanyakan pak joni berapa uang yang sudah dia punya selama ini yang dicadangkan untuk membayar DP, simpan pada variable current_savings nilai defaultnya boleh anda set 0.\n",
        "\n",
        "current_savings = float(input(\"Tabungan yang Anda miliki saat ini: \") or \"0\") \n",
        "\n",
        "# 4. Asumsikan bahwa pak joni menginvestasikan tabungan dengan bijak, sehingga memperoleh imbal hasil 5 % per tahun.\n",
        "\n",
        "investment_return = 0.05\n",
        "\n",
        "# 5. Simpan gaji tahunan pak joni dalam variabel annual_salary.\n",
        "\n",
        "annual_salary = float(input(\"Berapa gaji tahunan Anda: \"))\n",
        "\n",
        "# 6. Tanyakan pak Joni persen dari gaji pak joni yang dia sisishkan untuk menabung simpan pada variable portion_saved. Variabel ini berbentuk decimal (contoh 0.1 untuk persentase 10%).\n",
        "\n",
        "portion_saved = float(input(\"Berapa porsi yang Anda sisihkan dari gaji untuk diinvestasikan/ditabung: \"))\n",
        "\n",
        "# 7. Pada akhir tiap bulan bulan, tabungan anda akan meningkat sesuai dengan besarnya investasi ditambah dengan porsi gaji yang ditabungkan (gaji tahunan/ 12).\n",
        "\n",
        "investment_period = 0\n",
        "while(current_savings<portion_down_payment*total_cost):\n",
        "  investment_period+=1\n",
        "\n",
        "  #jumlah tabungan/investasi terakhir\n",
        "  #ditambah return investasi bulanan dari tabungan bulan sebelumnya\n",
        "  #ditambah dengan tabungan bulan ini\n",
        "  current_savings = current_savings +current_savings*(investment_return/12) +portion_saved*annual_salary/12 \n",
        "\n",
        "print(\"Jangka waktu investasi yang diperlukan adalah: %d bulan\" %investment_period)"
      ],
      "metadata": {
        "colab": {
          "base_uri": "https://localhost:8080/"
        },
        "id": "_vJsynsDAkOE",
        "outputId": "3e8db18f-6a6f-4a68-cdeb-541bc940a515"
      },
      "id": "_vJsynsDAkOE",
      "execution_count": null,
      "outputs": [
        {
          "output_type": "stream",
          "name": "stdout",
          "text": [
            "Harga perkiraan rumah yang Anda inginkan: 1000000\n",
            "Tabungan yang Anda miliki saat ini: \n",
            "Berapa gaji tahunan Anda: 120000\n",
            "Berapa porsi yang Anda sisihkan dari gaji untuk diinvestasikan/ditabung: .1\n",
            "Jangka waktu investasi yang diperlukan adalah: 172 bulan\n"
          ]
        }
      ]
    },
    {
      "cell_type": "markdown",
      "id": "70d68f60",
      "metadata": {
        "id": "70d68f60"
      },
      "source": [
        "## Pengayaan\n",
        "Write a program that converts a binary (base 2) number to decimal (base 10). Your\n",
        "program should begin by reading the binary number from the user as a string. Then\n",
        "it should compute the equivalent decimal number by processing each digit in the\n",
        "binary number. Finally, your program should display the equivalent decimal number\n",
        "with an appropriate message."
      ]
    },
    {
      "cell_type": "markdown",
      "source": [
        "##Versi pertama tanpa memperhitungkan ada input bilangan biner invalid"
      ],
      "metadata": {
        "id": "dTCPODgsAH1t"
      },
      "id": "dTCPODgsAH1t"
    },
    {
      "cell_type": "code",
      "source": [
        "#Tugas Pengayaan\n",
        "\n",
        "binary_number = input(\"Bilangan biner yang ingin dikonversi ke decimal: \")\n",
        "\n",
        "#Teknik 1: string slicing dari kiri\n",
        "decimal_conversion = 0\n",
        "for urutan_karakter in range(len(binary_number)):\n",
        "  karakter = int(binary_number[urutan_karakter])\n",
        "  pangkat = len(binary_number) - urutan_karakter - 1\n",
        "  decimal_conversion = decimal_conversion+karakter*2**pangkat\n",
        "\n",
        "print(\"Bilangan biner %s jika dikonversi ke desimal menjadi %d (Teknik 1)\" %(binary_number,decimal_conversion))\n",
        "\n",
        "#Teknik 2: string slicing dari kanan\n",
        "decimal_conversion = 0\n",
        "for urutan_karakter in range(len(binary_number)):\n",
        "  karakter = int(binary_number[-urutan_karakter-1])\n",
        "  pangkat = urutan_karakter\n",
        "  decimal_conversion = decimal_conversion+karakter*2**pangkat\n",
        "\n",
        "print(\"Bilangan biner %s jika dikonversi ke desimal menjadi %d (Teknik 2)\" %(binary_number,decimal_conversion))"
      ],
      "metadata": {
        "id": "ArXc5HLJhLAc",
        "colab": {
          "base_uri": "https://localhost:8080/"
        },
        "outputId": "1e46fe9a-a835-48a3-8f2b-42734ca76373"
      },
      "id": "ArXc5HLJhLAc",
      "execution_count": null,
      "outputs": [
        {
          "output_type": "stream",
          "name": "stdout",
          "text": [
            "Bilangan biner yang ingin dikonversi ke decimal: 1000110\n",
            "Bilangan biner 1000110 jika dikonversi ke desimal menjadi 70 (Teknik 1)\n",
            "Bilangan biner 1000110 jika dikonversi ke desimal menjadi 70 (Teknik 2)\n"
          ]
        }
      ]
    },
    {
      "cell_type": "markdown",
      "source": [
        "##Versi kedua dengan mempertimbangkan adanya bilangan biner invalid, sehingga harus divalidasi"
      ],
      "metadata": {
        "id": "G1AHpbItAR5k"
      },
      "id": "G1AHpbItAR5k"
    },
    {
      "cell_type": "code",
      "source": [
        "#Tugas Pengayaan\n",
        "\n",
        "binary_number = input(\"Bilangan biner yang ingin dikonversi ke decimal: \")\n",
        "\n",
        "#Teknik 1: string slicing dari kiri\n",
        "decimal_conversion = 0\n",
        "secure = True\n",
        "for urutan_karakter in range(len(binary_number)):\n",
        "  karakter = int(binary_number[urutan_karakter])\n",
        "  if(karakter!=0 and karakter!=1):\n",
        "    secure=False\n",
        "    break\n",
        "  pangkat = len(binary_number) - urutan_karakter - 1\n",
        "  decimal_conversion = decimal_conversion+karakter*2**pangkat\n",
        "\n",
        "if(secure):\n",
        "  print(\"Bilangan biner %s jika dikonversi ke desimal menjadi %d (Teknik 1)\" %(binary_number,decimal_conversion))\n",
        "else:\n",
        "  print(\"Bilangan biner %s invalid (Teknik 1)\" %(binary_number))\n",
        "\n",
        "#Teknik 2: string slicing dari kanan\n",
        "decimal_conversion = 0\n",
        "for urutan_karakter in range(len(binary_number)):\n",
        "  karakter = int(binary_number[-urutan_karakter-1])\n",
        "  pangkat = urutan_karakter\n",
        "  decimal_conversion = decimal_conversion+karakter*2**pangkat\n",
        "\n",
        "if(secure):\n",
        "  print(\"Bilangan biner %s jika dikonversi ke desimal menjadi %d (Teknik 2)\" %(binary_number,decimal_conversion))\n",
        "else:\n",
        "  print(\"Bilangan biner %s invalid (Teknik 2)\" %(binary_number))"
      ],
      "metadata": {
        "colab": {
          "base_uri": "https://localhost:8080/"
        },
        "id": "u3eXXertVT3_",
        "outputId": "a448e407-2a02-4768-8744-02979b63ae41"
      },
      "id": "u3eXXertVT3_",
      "execution_count": null,
      "outputs": [
        {
          "output_type": "stream",
          "name": "stdout",
          "text": [
            "Bilangan biner yang ingin dikonversi ke decimal: 1111010102\n",
            "Bilangan biner 1111010102 invalid (Teknik 1)\n",
            "Bilangan biner 1111010102 invalid (Teknik 2)\n"
          ]
        }
      ]
    },
    {
      "cell_type": "code",
      "source": [
        ""
      ],
      "metadata": {
        "id": "Wudale5piWdq"
      },
      "id": "Wudale5piWdq",
      "execution_count": null,
      "outputs": []
    }
  ],
  "metadata": {
    "kernelspec": {
      "display_name": "Python 3 (ipykernel)",
      "language": "python",
      "name": "python3"
    },
    "language_info": {
      "codemirror_mode": {
        "name": "ipython",
        "version": 3
      },
      "file_extension": ".py",
      "mimetype": "text/x-python",
      "name": "python",
      "nbconvert_exporter": "python",
      "pygments_lexer": "ipython3",
      "version": "3.9.7"
    },
    "colab": {
      "name": "Tugas Praktik Pengantar Python Hari 1.ipynb",
      "provenance": [],
      "collapsed_sections": []
    }
  },
  "nbformat": 4,
  "nbformat_minor": 5
}