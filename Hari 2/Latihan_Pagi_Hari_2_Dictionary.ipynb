{
  "cells": [
    {
      "cell_type": "markdown",
      "id": "33171551",
      "metadata": {
        "id": "33171551"
      },
      "source": [
        "# Latihan Dictionary"
      ]
    },
    {
      "cell_type": "markdown",
      "id": "59484f80",
      "metadata": {
        "id": "59484f80"
      },
      "source": [
        "# Latihan 1\n",
        "***\n",
        "\n",
        "At the halfway point during the Rio Olympics, the United States had 70 medals, Great Britain had 38 medals, China had 45 medals, Russia had 30 medals, and Germany had 17 medals. Create a dictionary assigned to the variable medal_count with the country names as the keys and the number of medals the country had as each key’s value"
      ]
    },
    {
      "cell_type": "code",
      "source": [
        "medal_count = {'United States':70,'Great Britain':38,'China':45,'Russia':30,'Germany':17}\n",
        "medal_count"
      ],
      "metadata": {
        "colab": {
          "base_uri": "https://localhost:8080/"
        },
        "id": "xbr_mNqDnJt1",
        "outputId": "f13de1fa-5903-4415-a592-6801ab260ddd"
      },
      "id": "xbr_mNqDnJt1",
      "execution_count": 1,
      "outputs": [
        {
          "output_type": "execute_result",
          "data": {
            "text/plain": [
              "{'China': 45,\n",
              " 'Germany': 17,\n",
              " 'Great Britain': 38,\n",
              " 'Russia': 30,\n",
              " 'United States': 70}"
            ]
          },
          "metadata": {},
          "execution_count": 1
        }
      ]
    },
    {
      "cell_type": "markdown",
      "id": "f0f5964f",
      "metadata": {
        "id": "f0f5964f"
      },
      "source": [
        "# Latihan 2\n",
        "***\n",
        "Given the dictionary swimmers, add an additional key-value pair to the dictionary with \"Phelps\" as the key and the integer 23 as the value. Do not rewrite the entire dictionary.\n"
      ]
    },
    {
      "cell_type": "code",
      "source": [
        "swimmers = {'Manuel':4, 'Lochte':12, 'Adrian':7, 'Ledecky':5, 'Dirado':4}\n",
        "\n",
        "swimmers['Phelps']=23\n",
        "\n",
        "print(swimmers)"
      ],
      "metadata": {
        "colab": {
          "base_uri": "https://localhost:8080/"
        },
        "id": "cqzPC7LIrh2e",
        "outputId": "d320b1ea-bd4e-49fd-a98d-8765172993a9"
      },
      "id": "cqzPC7LIrh2e",
      "execution_count": 15,
      "outputs": [
        {
          "output_type": "stream",
          "name": "stdout",
          "text": [
            "{'Manuel': 4, 'Lochte': 12, 'Adrian': 7, 'Ledecky': 5, 'Dirado': 4, 'Phelps': 23}\n"
          ]
        }
      ]
    },
    {
      "cell_type": "markdown",
      "source": [
        "Write code that combines the following variables so that the sentence “You are doing a great job, keep it up!” is assigned to the variable message. Do not edit the values assigned to by, az, io, or qy."
      ],
      "metadata": {
        "id": "-yor7gENrZT0"
      },
      "id": "-yor7gENrZT0"
    },
    {
      "cell_type": "code",
      "execution_count": 16,
      "id": "8657bdb4",
      "metadata": {
        "id": "8657bdb4",
        "colab": {
          "base_uri": "https://localhost:8080/"
        },
        "outputId": "c35ade3f-f67a-49f6-81c1-3025196e1a69"
      },
      "outputs": [
        {
          "output_type": "stream",
          "name": "stdout",
          "text": [
            "You are doing a great job, keep it up!\n"
          ]
        }
      ],
      "source": [
        "by = \"You are\"\n",
        "az = \"doing a great \"\n",
        "io = \"job\"\n",
        "qy = \"keep it up!\"\n",
        "message = by+\" \"+az+io+\", \"+qy\n",
        "print(message)"
      ]
    },
    {
      "cell_type": "code",
      "source": [
        "for i in list(swimmers.keys()):\n",
        "  print(i+' '+message)"
      ],
      "metadata": {
        "colab": {
          "base_uri": "https://localhost:8080/"
        },
        "id": "GCrFSeEstVmP",
        "outputId": "d5490392-b375-42e9-95a3-46f0f8d2f8b1"
      },
      "id": "GCrFSeEstVmP",
      "execution_count": 20,
      "outputs": [
        {
          "output_type": "stream",
          "name": "stdout",
          "text": [
            "Manuel You are doing a great job, keep it up!\n",
            "Lochte You are doing a great job, keep it up!\n",
            "Adrian You are doing a great job, keep it up!\n",
            "Ledecky You are doing a great job, keep it up!\n",
            "Dirado You are doing a great job, keep it up!\n",
            "Phelps You are doing a great job, keep it up!\n"
          ]
        }
      ]
    },
    {
      "cell_type": "markdown",
      "id": "617febe7",
      "metadata": {
        "id": "617febe7"
      },
      "source": [
        "\n",
        "\n",
        "# Latihan 3\n",
        "***\n",
        "\n",
        "Add the string “hockey” as a key to the dictionary sports_periods and assign it the value of 3. Do not rewrite the entire dictionary.\n",
        "\n",
        "sports_periods = {'baseball': 9, 'basketball': 4, 'soccer': 4, 'cricket': 2}"
      ]
    },
    {
      "cell_type": "code",
      "source": [
        "sports_periods = {'baseball': 9, 'basketball': 4, 'soccer': 4, 'cricket': 2}\n",
        "sports_periods['hockey']=3\n",
        "sports_periods"
      ],
      "metadata": {
        "colab": {
          "base_uri": "https://localhost:8080/"
        },
        "id": "Xden7a7gp4eJ",
        "outputId": "8dd8626a-6067-4a38-d103-95485f77df07"
      },
      "id": "Xden7a7gp4eJ",
      "execution_count": 5,
      "outputs": [
        {
          "output_type": "execute_result",
          "data": {
            "text/plain": [
              "{'baseball': 9, 'basketball': 4, 'cricket': 2, 'hockey': 3, 'soccer': 4}"
            ]
          },
          "metadata": {},
          "execution_count": 5
        }
      ]
    },
    {
      "cell_type": "markdown",
      "id": "0270ca5c",
      "metadata": {
        "id": "0270ca5c"
      },
      "source": [
        "# Latihan 4\n",
        "***\n",
        "\n",
        "The dictionary golds contains information about how many gold medals each country won in the 2016 Olympics. But today, Spain won 2 more gold medals. Update golds to reflect this information."
      ]
    },
    {
      "cell_type": "code",
      "execution_count": 12,
      "id": "7bd0544c",
      "metadata": {
        "id": "7bd0544c",
        "colab": {
          "base_uri": "https://localhost:8080/"
        },
        "outputId": "8dc21934-ea32-470e-c982-13b42bb9ae4e"
      },
      "outputs": [
        {
          "output_type": "execute_result",
          "data": {
            "text/plain": [
              "{'Argentina': 8,\n",
              " 'Brazil': 15,\n",
              " 'Canada': 22,\n",
              " 'China': 27,\n",
              " 'England': 29,\n",
              " 'Italy': 12,\n",
              " 'Spain': 21,\n",
              " 'USA': 33}"
            ]
          },
          "metadata": {},
          "execution_count": 12
        }
      ],
      "source": [
        "golds = {\"Italy\": 12, \"USA\": 33, \"Brazil\": 15, \"China\": 27, \n",
        "         \"Spain\": 19, \"Canada\": 22, \"Argentina\": 8, \"England\": 29}\n",
        "golds['Spain'] = golds['Spain']+2\n",
        "golds"
      ]
    },
    {
      "cell_type": "markdown",
      "id": "307666d6",
      "metadata": {
        "id": "307666d6"
      },
      "source": [
        "# Latihan 5\n",
        "***\n",
        "\n",
        "Create a list of the countries that are in the dictionary golds, and assign that list to the variable name countries. Do not hard code this.\n",
        "\n"
      ]
    },
    {
      "cell_type": "code",
      "execution_count": 11,
      "id": "f0c24d7b",
      "metadata": {
        "id": "f0c24d7b",
        "colab": {
          "base_uri": "https://localhost:8080/"
        },
        "outputId": "c7da9c0a-6db9-4cea-eb45-4bb308f64421"
      },
      "outputs": [
        {
          "output_type": "execute_result",
          "data": {
            "text/plain": [
              "['Italy', 'USA', 'Brazil', 'China', 'Spain', 'Canada', 'Argentina', 'England']"
            ]
          },
          "metadata": {},
          "execution_count": 11
        }
      ],
      "source": [
        "\n",
        "golds = {\"Italy\": 12, \"USA\": 33, \"Brazil\": 15, \"China\": 27, \"Spain\": 19, \"Canada\": 22, \"Argentina\": 8, \"England\": 29}\n",
        "\n",
        "name_countries = list(golds.keys())\n",
        "name_countries"
      ]
    },
    {
      "cell_type": "markdown",
      "id": "dd59c6e8",
      "metadata": {
        "id": "dd59c6e8"
      },
      "source": [
        "# Latihan 6\n",
        "***\n",
        "\n",
        "Assign the number of elements in lst to the variable num_lst."
      ]
    },
    {
      "cell_type": "code",
      "execution_count": 7,
      "id": "b46a76b0",
      "metadata": {
        "id": "b46a76b0",
        "colab": {
          "base_uri": "https://localhost:8080/"
        },
        "outputId": "0843d6af-2037-41b3-e626-fec202e1a711"
      },
      "outputs": [
        {
          "output_type": "stream",
          "name": "stdout",
          "text": [
            "30\n"
          ]
        }
      ],
      "source": [
        "lst = [\"hi\", \"goodbye\", \"python\", \"106\", \"506\", \n",
        "       91, ['all', 'Paul', 'Jackie', \"UMSI\", 1, \"Stephen\", 4.5], 109, \n",
        "       \"chair\", \"pizza\", \"wolverine\", 2017, 3.92, 1817, \"account\", \"readings\", \n",
        "       \"papers\", 12, \"facebook\", \"twitter\", 193.2, \n",
        "       \"snapchat\", \"leaders and the best\", \"social\", \"1986\", 9, 29, \"holiday\", \n",
        "       [\"women\", \"olympics\", \"gold\", \"rio\", 21, \"2016\", \"men\"], \"26trombones\"]\n",
        "\n",
        "num_lst = len(lst)\n",
        "print(num_lst)"
      ]
    },
    {
      "cell_type": "code",
      "source": [
        ""
      ],
      "metadata": {
        "id": "DK-jsIa9rsBC"
      },
      "id": "DK-jsIa9rsBC",
      "execution_count": null,
      "outputs": []
    }
  ],
  "metadata": {
    "kernelspec": {
      "display_name": "Python 3 (ipykernel)",
      "language": "python",
      "name": "python3"
    },
    "language_info": {
      "codemirror_mode": {
        "name": "ipython",
        "version": 3
      },
      "file_extension": ".py",
      "mimetype": "text/x-python",
      "name": "python",
      "nbconvert_exporter": "python",
      "pygments_lexer": "ipython3",
      "version": "3.9.7"
    },
    "colab": {
      "name": "Latihan Pagi Hari 2 - Dictionary.ipynb",
      "provenance": []
    }
  },
  "nbformat": 4,
  "nbformat_minor": 5
}