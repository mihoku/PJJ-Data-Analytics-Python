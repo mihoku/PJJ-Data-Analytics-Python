{
  "cells": [
    {
      "cell_type": "markdown",
      "id": "5c404b1d",
      "metadata": {
        "id": "5c404b1d"
      },
      "source": [
        "## Latihan 1 :\n",
        "\n",
        "Dictionary **Junior** menampung informasi jadwal untuk anak kuliah tahun ini. Keynya adalah naman mata pelajaran dan angka dibelakangnya adalah angka kredit. Temukan jumlah kredit yang diambil dan assignlah ke variabel **credits**."
      ]
    },
    {
      "cell_type": "code",
      "execution_count": 1,
      "id": "f5066abb",
      "metadata": {
        "id": "f5066abb"
      },
      "outputs": [],
      "source": [
        "Junior = {'SI 206':4, 'SI 310':4, 'BL 300':3, 'TO 313':3, 'BCOM 350':1, 'MO 300':3}"
      ]
    },
    {
      "cell_type": "code",
      "source": [
        "credits = 0\n",
        "for i in list(Junior.values()):\n",
        "  credits += i\n",
        "credits"
      ],
      "metadata": {
        "id": "GxA39V68ELrb",
        "colab": {
          "base_uri": "https://localhost:8080/"
        },
        "outputId": "c3e3728d-17f2-4b18-f05f-4aa6507edccd"
      },
      "id": "GxA39V68ELrb",
      "execution_count": 3,
      "outputs": [
        {
          "output_type": "execute_result",
          "data": {
            "text/plain": [
              "18"
            ]
          },
          "metadata": {},
          "execution_count": 3
        }
      ]
    },
    {
      "cell_type": "markdown",
      "id": "e03c9028",
      "metadata": {
        "id": "e03c9028"
      },
      "source": [
        "## Latihan 2 :\n",
        "\n",
        "Buatlah suatu dictionary bernama **freq** yang isi dari keynya adalah alphabet yang ada dalam string itu dan nilainya adalah frekuensi kemunculan dari alphabet itu."
      ]
    },
    {
      "cell_type": "code",
      "execution_count": 6,
      "id": "199c77c5",
      "metadata": {
        "id": "199c77c5"
      },
      "outputs": [],
      "source": [
        "str1 = \"peter piper picked a peck of pickled peppers\""
      ]
    },
    {
      "cell_type": "code",
      "source": [
        "freq = {}\n",
        "\n",
        "for i in str1:\n",
        "  if(i.isalpha()):\n",
        "    if freq.get(i)==None:\n",
        "      freq[i]=1\n",
        "    else:\n",
        "      freq[i]+=1\n",
        "  else:\n",
        "    continue\n",
        "freq"
      ],
      "metadata": {
        "colab": {
          "base_uri": "https://localhost:8080/"
        },
        "id": "wXFCDX37FICc",
        "outputId": "d0d0deaa-a902-4b12-fc39-3e34d0e35746"
      },
      "id": "wXFCDX37FICc",
      "execution_count": 23,
      "outputs": [
        {
          "output_type": "execute_result",
          "data": {
            "text/plain": [
              "{'a': 1,\n",
              " 'c': 3,\n",
              " 'd': 2,\n",
              " 'e': 8,\n",
              " 'f': 1,\n",
              " 'i': 3,\n",
              " 'k': 3,\n",
              " 'l': 1,\n",
              " 'o': 1,\n",
              " 'p': 9,\n",
              " 'r': 3,\n",
              " 's': 1,\n",
              " 't': 1}"
            ]
          },
          "metadata": {},
          "execution_count": 23
        }
      ]
    },
    {
      "cell_type": "markdown",
      "id": "41c851d9",
      "metadata": {
        "id": "41c851d9"
      },
      "source": [
        "## Latihan 3 :\n",
        "Buatlah suatu dictionary bernama **wrd_d** dari string dibawah, dimana key nya adalah kata dan valuenya adalah berapa kali anda menemukan value tersebut di string tersebut."
      ]
    },
    {
      "cell_type": "code",
      "execution_count": 30,
      "id": "7b42f699",
      "metadata": {
        "id": "7b42f699"
      },
      "outputs": [],
      "source": [
        "sent = \"\"\"Singing in the rain and playing in the rain are two entirely different situations but both can be good\"\"\""
      ]
    },
    {
      "cell_type": "code",
      "source": [
        "wrd_d = {}\n",
        "\n",
        "sent_split = sent.split(\" \")\n",
        "for component in sent_split:\n",
        "  if wrd_d.get(i)==None:\n",
        "      wrd_d[component]=1\n",
        "  else:\n",
        "      wrd_d[component]+=1\n",
        "wrd_d"
      ],
      "metadata": {
        "colab": {
          "base_uri": "https://localhost:8080/"
        },
        "id": "vNTmjprVHx5O",
        "outputId": "bf84b826-2e3b-4b9d-ccf4-39a50c1d174b"
      },
      "id": "vNTmjprVHx5O",
      "execution_count": 31,
      "outputs": [
        {
          "output_type": "execute_result",
          "data": {
            "text/plain": [
              "{'Singing': 1,\n",
              " 'and': 1,\n",
              " 'are': 1,\n",
              " 'be': 1,\n",
              " 'both': 1,\n",
              " 'but': 1,\n",
              " 'can': 1,\n",
              " 'different': 1,\n",
              " 'entirely': 1,\n",
              " 'good': 1,\n",
              " 'in': 1,\n",
              " 'playing': 1,\n",
              " 'rain': 1,\n",
              " 'situations': 1,\n",
              " 'the': 1,\n",
              " 'two': 1}"
            ]
          },
          "metadata": {},
          "execution_count": 31
        }
      ]
    },
    {
      "cell_type": "markdown",
      "id": "9d135403",
      "metadata": {
        "id": "9d135403"
      },
      "source": [
        "## Latihan 4\n",
        "\n",
        "Buatlah suatu dictionary bernama **letter_counts** yang menghitung frekuensi kemunculan dari suatu huruf di dalam string dan berapa kali huruf itu muncul. </br>\n",
        "\n",
        "**Perhatian:**\n",
        "Setiap huruf besar atau huruf kecil dalam alphabet yang sama harus dihitung sebagai huruf yang sama"
      ]
    },
    {
      "cell_type": "code",
      "execution_count": 28,
      "id": "f2a15329",
      "metadata": {
        "id": "f2a15329"
      },
      "outputs": [],
      "source": [
        "string1 = \"\"\"There is a tide in the affairs of men, Which taken at the flood, \n",
        "leads on to fortune. Omitted, all the voyage of their life is bound in shallows\n",
        "and in miseries. On such a full sea are we now afloat. \n",
        "And we must take the current when it serves, or lose our ventures.\"\"\""
      ]
    },
    {
      "cell_type": "code",
      "source": [
        "letter_counts = {}\n",
        "string_converted = string1.lower()\n",
        "for component in string_converted:\n",
        "  if(component.isalpha()):\n",
        "    if component not in letter_counts.keys():\n",
        "        letter_counts[component]=1\n",
        "    else:\n",
        "        letter_counts[component]+=1\n",
        "  else:\n",
        "    continue\n",
        "letter_counts"
      ],
      "metadata": {
        "colab": {
          "base_uri": "https://localhost:8080/"
        },
        "id": "pK6RgWOrJ8xF",
        "outputId": "a7a88b44-3381-43e5-ceb0-f57aa3b229e8"
      },
      "id": "pK6RgWOrJ8xF",
      "execution_count": 33,
      "outputs": [
        {
          "output_type": "execute_result",
          "data": {
            "text/plain": [
              "{'a': 17,\n",
              " 'b': 1,\n",
              " 'c': 3,\n",
              " 'd': 7,\n",
              " 'e': 29,\n",
              " 'f': 9,\n",
              " 'g': 1,\n",
              " 'h': 11,\n",
              " 'i': 14,\n",
              " 'k': 2,\n",
              " 'l': 11,\n",
              " 'm': 4,\n",
              " 'n': 15,\n",
              " 'o': 17,\n",
              " 'r': 12,\n",
              " 's': 15,\n",
              " 't': 19,\n",
              " 'u': 8,\n",
              " 'v': 3,\n",
              " 'w': 6,\n",
              " 'y': 1}"
            ]
          },
          "metadata": {},
          "execution_count": 33
        }
      ]
    },
    {
      "cell_type": "code",
      "source": [
        ""
      ],
      "metadata": {
        "id": "t11BLI6xKha4"
      },
      "id": "t11BLI6xKha4",
      "execution_count": null,
      "outputs": []
    }
  ],
  "metadata": {
    "kernelspec": {
      "display_name": "Python 3 (ipykernel)",
      "language": "python",
      "name": "python3"
    },
    "language_info": {
      "codemirror_mode": {
        "name": "ipython",
        "version": 3
      },
      "file_extension": ".py",
      "mimetype": "text/x-python",
      "name": "python",
      "nbconvert_exporter": "python",
      "pygments_lexer": "ipython3",
      "version": "3.9.7"
    },
    "colab": {
      "name": "Latihan Siang Hari 2(a) - Dictionary.ipynb",
      "provenance": [],
      "collapsed_sections": []
    }
  },
  "nbformat": 4,
  "nbformat_minor": 5
}