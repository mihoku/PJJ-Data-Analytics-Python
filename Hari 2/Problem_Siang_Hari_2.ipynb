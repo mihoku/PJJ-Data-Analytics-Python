{
  "cells": [
    {
      "cell_type": "markdown",
      "id": "dd59c6e8",
      "metadata": {
        "id": "dd59c6e8"
      },
      "source": [
        "# Problem 1\n",
        "\n",
        "Berikut adalah potongan csv yang sudah dimodifikasi dari museum yang ada di Jakarta. Tugas anda adalah membuat list yang isinya jumlah museum di setiap kota di Jakarta Pusat.</br>"
      ]
    },
    {
      "cell_type": "code",
      "execution_count": 2,
      "id": "632a12a4",
      "metadata": {
        "id": "632a12a4"
      },
      "outputs": [],
      "source": [
        "museum=\"\"\"tahun,kota_kab,jenis_museum,jumlah\\n\n",
        "2020,Jakarta Selatan,Seni,2\\n\n",
        "2020,Jakarta Selatan,Arkeologi,1\\n\n",
        "2020,Jakarta Selatan,IPTEK,1\\n\n",
        "2020,Jakarta Selatan,Khusus,0\\n\n",
        "2020,Jakarta Selatan,Umum,0\\n\n",
        "2020,Jakarta Selatan,Bonbin,1\\n\n",
        "2020,Jakarta Timur,Seni Rupa,4\\n\n",
        "2020,Jakarta Timur,Arkeologi,0\\n\n",
        "2020,Jakarta Timur,IPTEK,2\\n\n",
        "2020,Jakarta Timur,Khusus,0\\n\n",
        "2020,Jakarta Timur,Umum,0\\n\n",
        "2020,Jakarta Timur,Bonbin,0\\n\n",
        "2020,Jakarta Pusat,Seni,0\\n\n",
        "2020,Jakarta Pusat,Arkeologi,3\\n\n",
        "2020,Jakarta Pusat,IPTEK,5\\n\n",
        "2020,Jakarta Pusat,Khusus,0\\n\n",
        "2020,Jakarta Pusat,Umum,2\\n\n",
        "2020,Jakarta Pusat,Bonbin,0\\n\n",
        "2020,Jakarta Barat,Seni,3\\n\n",
        "2020,Jakarta Barat,Arkeologi,1\\n\n",
        "2020,Jakarta Barat,IPTEK,0\\n\n",
        "2020,Jakarta Barat,Khusus,1\\n\n",
        "2020,Jakarta Barat,Umum,0\n",
        "2020,Jakarta Barat,Bonbin,0\\n\n",
        "2020,Jakarta Utara,Seni,1\\n\n",
        "2020,Jakarta Utara,Arkeologi,1\\n\n",
        "2020,Jakarta Utara,IPTEK,0\\n\n",
        "2020,Jakarta Utara,Khusus,0\\n\n",
        "2020,Jakarta Utara,Umum,0\\n\n",
        "2020,Jakarta Utara,Bonbin,6\\n\"\"\""
      ]
    },
    {
      "cell_type": "code",
      "source": [
        "#di sini kita mencoba mengambil nama kolom dari file csv\n",
        "cols = museum[:museum.find(\"\\n\")]\n",
        "print(cols)"
      ],
      "metadata": {
        "colab": {
          "base_uri": "https://localhost:8080/"
        },
        "id": "mYHpK5tgPqk3",
        "outputId": "02e03265-0ef5-4b60-804f-cdcfdd843101"
      },
      "id": "mYHpK5tgPqk3",
      "execution_count": 8,
      "outputs": [
        {
          "output_type": "stream",
          "name": "stdout",
          "text": [
            "tahun,kota_kab,jenis_museum,jumlah\n"
          ]
        }
      ]
    },
    {
      "cell_type": "code",
      "source": [
        "#di sini kita mengambil isi dari file csv selain kolomnya\n",
        "#isi dimulai dari 2 karakter setelah \\n pertama\n",
        "content = museum[museum.find(\"\\n\")+2:]\n",
        "content"
      ],
      "metadata": {
        "colab": {
          "base_uri": "https://localhost:8080/",
          "height": 128
        },
        "id": "s7OXpypHRzGN",
        "outputId": "e429836e-75eb-4a81-c37c-1a7b3b7e5593"
      },
      "id": "s7OXpypHRzGN",
      "execution_count": 26,
      "outputs": [
        {
          "output_type": "execute_result",
          "data": {
            "text/plain": [
              "'2020,Jakarta Selatan,Seni,2\\n\\n2020,Jakarta Selatan,Arkeologi,1\\n\\n2020,Jakarta Selatan,IPTEK,1\\n\\n2020,Jakarta Selatan,Khusus,0\\n\\n2020,Jakarta Selatan,Umum,0\\n\\n2020,Jakarta Selatan,Bonbin,1\\n\\n2020,Jakarta Timur,Seni Rupa,4\\n\\n2020,Jakarta Timur,Arkeologi,0\\n\\n2020,Jakarta Timur,IPTEK,2\\n\\n2020,Jakarta Timur,Khusus,0\\n\\n2020,Jakarta Timur,Umum,0\\n\\n2020,Jakarta Timur,Bonbin,0\\n\\n2020,Jakarta Pusat,Seni,0\\n\\n2020,Jakarta Pusat,Arkeologi,3\\n\\n2020,Jakarta Pusat,IPTEK,5\\n\\n2020,Jakarta Pusat,Khusus,0\\n\\n2020,Jakarta Pusat,Umum,2\\n\\n2020,Jakarta Pusat,Bonbin,0\\n\\n2020,Jakarta Barat,Seni,3\\n\\n2020,Jakarta Barat,Arkeologi,1\\n\\n2020,Jakarta Barat,IPTEK,0\\n\\n2020,Jakarta Barat,Khusus,1\\n\\n2020,Jakarta Barat,Umum,0\\n2020,Jakarta Barat,Bonbin,0\\n\\n2020,Jakarta Utara,Seni,1\\n\\n2020,Jakarta Utara,Arkeologi,1\\n\\n2020,Jakarta Utara,IPTEK,0\\n\\n2020,Jakarta Utara,Khusus,0\\n\\n2020,Jakarta Utara,Umum,0\\n\\n2020,Jakarta Utara,Bonbin,6\\n'"
            ],
            "application/vnd.google.colaboratory.intrinsic+json": {
              "type": "string"
            }
          },
          "metadata": {},
          "execution_count": 26
        }
      ]
    },
    {
      "cell_type": "code",
      "source": [
        "#dari hasil print content di atas dapat dilihat dari setiap baris dipisahkan oleh karakter \\n\\n\n",
        "#langkah selanjutnya memisahkan setiap baris dan memasukkan ke dalam list content_extracted\n",
        "content = content.replace(\"\\n\\n\",\"\\n\")\n",
        "content_extracted = content[:-1].split(\"\\n\")\n",
        "content_extracted"
      ],
      "metadata": {
        "colab": {
          "base_uri": "https://localhost:8080/"
        },
        "id": "5IiB3kElR_Op",
        "outputId": "3e797245-f3b9-49c4-adf0-249aedc9c8e2"
      },
      "id": "5IiB3kElR_Op",
      "execution_count": 33,
      "outputs": [
        {
          "output_type": "execute_result",
          "data": {
            "text/plain": [
              "['2020,Jakarta Selatan,Seni,2',\n",
              " '2020,Jakarta Selatan,Arkeologi,1',\n",
              " '2020,Jakarta Selatan,IPTEK,1',\n",
              " '2020,Jakarta Selatan,Khusus,0',\n",
              " '2020,Jakarta Selatan,Umum,0',\n",
              " '2020,Jakarta Selatan,Bonbin,1',\n",
              " '2020,Jakarta Timur,Seni Rupa,4',\n",
              " '2020,Jakarta Timur,Arkeologi,0',\n",
              " '2020,Jakarta Timur,IPTEK,2',\n",
              " '2020,Jakarta Timur,Khusus,0',\n",
              " '2020,Jakarta Timur,Umum,0',\n",
              " '2020,Jakarta Timur,Bonbin,0',\n",
              " '2020,Jakarta Pusat,Seni,0',\n",
              " '2020,Jakarta Pusat,Arkeologi,3',\n",
              " '2020,Jakarta Pusat,IPTEK,5',\n",
              " '2020,Jakarta Pusat,Khusus,0',\n",
              " '2020,Jakarta Pusat,Umum,2',\n",
              " '2020,Jakarta Pusat,Bonbin,0',\n",
              " '2020,Jakarta Barat,Seni,3',\n",
              " '2020,Jakarta Barat,Arkeologi,1',\n",
              " '2020,Jakarta Barat,IPTEK,0',\n",
              " '2020,Jakarta Barat,Khusus,1',\n",
              " '2020,Jakarta Barat,Umum,0',\n",
              " '2020,Jakarta Barat,Bonbin,0',\n",
              " '2020,Jakarta Utara,Seni,1',\n",
              " '2020,Jakarta Utara,Arkeologi,1',\n",
              " '2020,Jakarta Utara,IPTEK,0',\n",
              " '2020,Jakarta Utara,Khusus,0',\n",
              " '2020,Jakarta Utara,Umum,0',\n",
              " '2020,Jakarta Utara,Bonbin,6']"
            ]
          },
          "metadata": {},
          "execution_count": 33
        }
      ]
    },
    {
      "cell_type": "code",
      "source": [
        "#buat dictionary kosong terlebih dahulu\n",
        "result = {}"
      ],
      "metadata": {
        "id": "wUEASdPyUkjv"
      },
      "id": "wUEASdPyUkjv",
      "execution_count": 34,
      "outputs": []
    },
    {
      "cell_type": "code",
      "source": [
        "#berikutnya dilakukan iterasi untuk setiap kolom\n",
        "for i in content_extracted:\n",
        "  row_content = i.split(\",\")\n",
        "  if row_content[1] not in result.keys():\n",
        "    result[row_content[1]] = int(row_content[3])\n",
        "  else:\n",
        "    result[row_content[1]] = result[row_content[1]]+int(row_content[3])\n",
        "result"
      ],
      "metadata": {
        "colab": {
          "base_uri": "https://localhost:8080/"
        },
        "id": "fArdT4EfSbbd",
        "outputId": "30e6e74e-6913-4f6d-f354-0e3647fc7e8c"
      },
      "id": "fArdT4EfSbbd",
      "execution_count": 35,
      "outputs": [
        {
          "output_type": "execute_result",
          "data": {
            "text/plain": [
              "{'Jakarta Barat': 5,\n",
              " 'Jakarta Pusat': 10,\n",
              " 'Jakarta Selatan': 5,\n",
              " 'Jakarta Timur': 6,\n",
              " 'Jakarta Utara': 8}"
            ]
          },
          "metadata": {},
          "execution_count": 35
        }
      ]
    },
    {
      "cell_type": "markdown",
      "id": "ee002a54",
      "metadata": {
        "id": "ee002a54"
      },
      "source": [
        "# Problem 2:\n",
        "Berikut adalah JSON dari sebuah timestamp cuaca :\n",
        "Dari data tersebut, buatlah suatu list di dalam list yang berisi jam cuaca, dan cuaca saja di tanggal-tanggal yang cuacanya hujan ringan saja."
      ]
    },
    {
      "cell_type": "code",
      "execution_count": 12,
      "id": "aa64272c",
      "metadata": {
        "id": "aa64272c"
      },
      "outputs": [],
      "source": [
        "#Berikut adalah JSON dari sebuah timestamp cuaca :\n",
        "weather=[{\"jamCuaca\":\"2022-06-14 00:00:00\",\"kodeCuaca\":\"60\",\"cuaca\":\"Hujan Ringan\",\"humidity\":\"85\",\"tempC\":\"23\",\"tempF\":\"73\"},\n",
        " {\"jamCuaca\":\"2022-06-14 06:00:00\",\"kodeCuaca\":\"60\",\"cuaca\":\"Hujan Ringan\",\"humidity\":\"55\",\"tempC\":\"33\",\"tempF\":\"91\"},\n",
        " {\"jamCuaca\":\"2022-06-14 12:00:00\",\"kodeCuaca\":\"60\",\"cuaca\":\"Hujan Ringan\",\"humidity\":\"85\",\"tempC\":\"23\",\"tempF\":\"73\"},\n",
        " {\"jamCuaca\":\"2022-06-14 18:00:00\",\"kodeCuaca\":\"3\",\"cuaca\":\"Berawan\",\"humidity\":\"90\",\"tempC\":\"23\",\"tempF\":\"73\"},\n",
        " {\"jamCuaca\":\"2022-06-15 00:00:00\",\"kodeCuaca\":\"1\",\"cuaca\":\"Cerah Berawan\",\"humidity\":\"80\",\"tempC\":\"25\",\"tempF\":\"77\"},\n",
        " {\"jamCuaca\":\"2022-06-15 06:00:00\",\"kodeCuaca\":\"60\",\"cuaca\":\"Hujan Ringan\",\"humidity\":\"65\",\"tempC\":\"32\",\"tempF\":\"90\"},\n",
        " {\"jamCuaca\":\"2022-06-15 12:00:00\",\"kodeCuaca\":\"60\",\"cuaca\":\"Hujan Ringan\",\"humidity\":\"80\",\"tempC\":\"25\",\"tempF\":\"77\"},\n",
        " {\"jamCuaca\":\"2022-06-15 18:00:00\",\"kodeCuaca\":\"3\",\"cuaca\":\"Berawan\",\"humidity\":\"90\",\"tempC\":\"23\",\"tempF\":\"73\"},\n",
        " {\"jamCuaca\":\"2022-06-16 00:00:00\",\"kodeCuaca\":\"60\",\"cuaca\":\"Hujan Ringan\",\"humidity\":\"80\",\"tempC\":\"25\",\"tempF\":\"77\"},\n",
        " {\"jamCuaca\":\"2022-06-16 06:00:00\",\"kodeCuaca\":\"60\",\"cuaca\":\"Hujan Ringan\",\"humidity\":\"55\",\"tempC\":\"32\",\"tempF\":\"90\"},\n",
        " {\"jamCuaca\":\"2022-06-16 12:00:00\",\"kodeCuaca\":\"60\",\"cuaca\":\"Hujan Ringan\",\"humidity\":\"80\",\"tempC\":\"25\",\"tempF\":\"77\"},\n",
        " {\"jamCuaca\":\"2022-06-16 18:00:00\",\"kodeCuaca\":\"3\",\"cuaca\":\"Berawan\",\"humidity\":\"90\",\"tempC\":\"23\",\"tempF\":\"73\"}]"
      ]
    },
    {
      "cell_type": "code",
      "source": [
        "list_weather = []\n",
        "for i in range(len(weather)):\n",
        "  hujan_ringan = {}\n",
        "  if weather[i][]"
      ],
      "metadata": {
        "id": "OvhxoqOHbYe-"
      },
      "id": "OvhxoqOHbYe-",
      "execution_count": null,
      "outputs": []
    },
    {
      "cell_type": "markdown",
      "id": "c9686bc7",
      "metadata": {
        "id": "c9686bc7"
      },
      "source": [
        "# Problem 3:\n",
        "\n",
        "Berikut adalah potongan opini dari kompas 14 Juni 2022 :</br>\n",
        "\"Big data yang menjadi polemik dua bulan lalu menunjukkan bahwa big data lebih banyak dibahas aspek politiknya, seperti dalam wacana penundaan jadwal pemilu, bukan aspek ekonominya. Padahal kedua aspek ini sama berguna bagi masyarakat yang menjadi konsumen atau juga merangkap produsen potensial, bukan hanya target untuk kepentingan politik.\"\n",
        "\n",
        "Pada potongan di atas terdapat beberapa kata stopwords, seperti yang ada di list stopwords.</br>\n",
        "Tugas anda adalah untuk membuat suatu list baru, yang berisi seluruh kata tanpa ada stopword."
      ]
    },
    {
      "cell_type": "code",
      "execution_count": null,
      "id": "702a404e",
      "metadata": {
        "id": "702a404e"
      },
      "outputs": [],
      "source": [
        "stopwords = ['yang', 'lalu', 'bahwa', 'by', 'lebih', 'seperti', 'bukan', 'ini', 'bagi', 'atau', \n",
        "             \"hanya\", \"untuk\", \"juga\"]"
      ]
    }
  ],
  "metadata": {
    "kernelspec": {
      "display_name": "Python 3 (ipykernel)",
      "language": "python",
      "name": "python3"
    },
    "language_info": {
      "codemirror_mode": {
        "name": "ipython",
        "version": 3
      },
      "file_extension": ".py",
      "mimetype": "text/x-python",
      "name": "python",
      "nbconvert_exporter": "python",
      "pygments_lexer": "ipython3",
      "version": "3.9.7"
    },
    "colab": {
      "name": "Problem Siang Hari 2.ipynb",
      "provenance": [],
      "collapsed_sections": []
    }
  },
  "nbformat": 4,
  "nbformat_minor": 5
}